{
 "cells": [
  {
   "cell_type": "markdown",
   "metadata": {},
   "source": [
    "## <b> <span style='color:#e61227'>|</span> Traffic Signs Detection Using YOLOv8 </b> "
   ]
  },
  {
   "cell_type": "code",
   "execution_count": null,
   "metadata": {
    "_kg_hide-output": false,
    "execution": {
     "iopub.execute_input": "2024-12-01T08:42:14.627622Z",
     "iopub.status.busy": "2024-12-01T08:42:14.627375Z",
     "iopub.status.idle": "2024-12-01T08:42:24.978181Z",
     "shell.execute_reply": "2024-12-01T08:42:24.977338Z",
     "shell.execute_reply.started": "2024-12-01T08:42:14.627599Z"
    },
    "trusted": true
   },
   "outputs": [],
   "source": [
    "# Install Essential Libraries\n",
    "!pip install ultralytics"
   ]
  },
  {
   "cell_type": "code",
   "execution_count": null,
   "metadata": {
    "_kg_hide-output": true,
    "execution": {
     "iopub.execute_input": "2024-12-01T08:42:24.980179Z",
     "iopub.status.busy": "2024-12-01T08:42:24.979881Z",
     "iopub.status.idle": "2024-12-01T08:42:28.961531Z",
     "shell.execute_reply": "2024-12-01T08:42:28.960815Z",
     "shell.execute_reply.started": "2024-12-01T08:42:24.980154Z"
    },
    "trusted": true
   },
   "outputs": [],
   "source": [
    "# Import Essential Libraries\n",
    "import os\n",
    "import random\n",
    "import pandas as pd\n",
    "from PIL import Image\n",
    "import cv2\n",
    "from ultralytics import YOLO,RTDETR\n",
    "from IPython.display import Video\n",
    "import numpy as np  \n",
    "import matplotlib.pyplot as plt\n",
    "import seaborn as sns\n",
    "sns.set(style='darkgrid')\n",
    "import pathlib\n",
    "import glob\n",
    "from tqdm.notebook import trange, tqdm\n",
    "import warnings\n",
    "warnings.filterwarnings('ignore')"
   ]
  },
  {
   "cell_type": "code",
   "execution_count": null,
   "metadata": {
    "execution": {
     "iopub.execute_input": "2024-12-01T08:42:28.962896Z",
     "iopub.status.busy": "2024-12-01T08:42:28.962488Z",
     "iopub.status.idle": "2024-12-01T08:42:28.967749Z",
     "shell.execute_reply": "2024-12-01T08:42:28.966802Z",
     "shell.execute_reply.started": "2024-12-01T08:42:28.962862Z"
    },
    "trusted": true
   },
   "outputs": [],
   "source": [
    "# Configure the visual appearance of Seaborn plots\n",
    "sns.set(rc={'axes.facecolor': '#eae8fa'}, style='darkgrid')"
   ]
  },
  {
   "cell_type": "markdown",
   "metadata": {},
   "source": [
    "## <b>3 <span style='color:#e61227'>|</span> Dataset</b> "
   ]
  },
  {
   "cell_type": "markdown",
   "metadata": {},
   "source": [
    "***3.1.1. Show Some Images From TrainSet***"
   ]
  },
  {
   "cell_type": "code",
   "execution_count": null,
   "metadata": {
    "execution": {
     "iopub.execute_input": "2024-12-01T08:42:28.969587Z",
     "iopub.status.busy": "2024-12-01T08:42:28.969345Z",
     "iopub.status.idle": "2024-12-01T08:42:31.144625Z",
     "shell.execute_reply": "2024-12-01T08:42:31.143606Z",
     "shell.execute_reply.started": "2024-12-01T08:42:28.969568Z"
    },
    "trusted": true
   },
   "outputs": [],
   "source": [
    "Image_dir = '/kaggle/input/cardetection/car/train/images'\n",
    "\n",
    "num_samples = 9\n",
    "image_files = os.listdir(Image_dir)\n",
    "\n",
    "# Randomly select num_samples images\n",
    "rand_images = random.sample(image_files, num_samples)\n",
    "\n",
    "fig, axes = plt.subplots(3, 3, figsize=(11, 11))\n",
    "\n",
    "for i in range(num_samples):\n",
    "    image = rand_images[i]\n",
    "    ax = axes[i // 3, i % 3]\n",
    "    ax.imshow(plt.imread(os.path.join(Image_dir, image)))\n",
    "    ax.set_title(f'Image {i+1}')\n",
    "    ax.axis('off')\n",
    "\n",
    "plt.tight_layout()\n",
    "plt.show()"
   ]
  },
  {
   "cell_type": "markdown",
   "metadata": {},
   "source": [
    "***3.1.2. Get Shape Of An Image For Using In Training Step***"
   ]
  },
  {
   "cell_type": "code",
   "execution_count": null,
   "metadata": {
    "execution": {
     "iopub.execute_input": "2024-12-01T08:42:31.145882Z",
     "iopub.status.busy": "2024-12-01T08:42:31.145627Z",
     "iopub.status.idle": "2024-12-01T08:42:31.168839Z",
     "shell.execute_reply": "2024-12-01T08:42:31.168117Z",
     "shell.execute_reply.started": "2024-12-01T08:42:31.145858Z"
    },
    "trusted": true
   },
   "outputs": [],
   "source": [
    "# Get the size of the image\n",
    "image = cv2.imread(\"/kaggle/input/cardetection/car/train/images/00000_00000_00012_png.rf.23f94508dba03ef2f8bd187da2ec9c26.jpg\")\n",
    "h, w, c = image.shape\n",
    "print(f\"The image has dimensions {w}x{h} and {c} channels.\")"
   ]
  },
  {
   "cell_type": "markdown",
   "metadata": {},
   "source": [
    "## <b>4 <span style='color:#e61227'>|</span> Try Pre-trained YOLOv8 For Detect Traffic Signs  </b>"
   ]
  },
  {
   "cell_type": "code",
   "execution_count": null,
   "metadata": {
    "execution": {
     "iopub.execute_input": "2024-12-01T08:42:31.170160Z",
     "iopub.status.busy": "2024-12-01T08:42:31.169842Z",
     "iopub.status.idle": "2024-12-01T08:42:34.140746Z",
     "shell.execute_reply": "2024-12-01T08:42:34.139898Z",
     "shell.execute_reply.started": "2024-12-01T08:42:31.170133Z"
    },
    "trusted": true
   },
   "outputs": [],
   "source": [
    "# Use a pretrained model\n",
    "model = YOLO(\"yolo11n.pt\") \n",
    "\n",
    "# Use the model to detect object\n",
    "image = \"/kaggle/input/cardetection/car/train/images/FisheyeCamera_1_00228_png.rf.e7c43ee9b922f7b2327b8a00ccf46a4c.jpg\"\n",
    "result_predict = model.predict(source = image, imgsz=(640))\n",
    "\n",
    "# show results\n",
    "plot = result_predict[0].plot()\n",
    "plot = cv2.cvtColor(plot, cv2.COLOR_BGR2RGB)\n",
    "display(Image.fromarray(plot))"
   ]
  },
  {
   "cell_type": "markdown",
   "metadata": {},
   "source": [
    "## <b>5 <span style='color:#e61227'>|</span> YOLOv8-Based Traffic Signs Detection Model</b>"
   ]
  },
  {
   "cell_type": "markdown",
   "metadata": {},
   "source": [
    "***5.1.1. Training Step***"
   ]
  },
  {
   "cell_type": "code",
   "execution_count": null,
   "metadata": {
    "execution": {
     "iopub.execute_input": "2024-12-01T08:42:34.142036Z",
     "iopub.status.busy": "2024-12-01T08:42:34.141782Z",
     "iopub.status.idle": "2024-12-01T08:42:54.610075Z",
     "shell.execute_reply": "2024-12-01T08:42:54.608996Z",
     "shell.execute_reply.started": "2024-12-01T08:42:34.142014Z"
    },
    "trusted": true
   },
   "outputs": [],
   "source": [
    "!pip install --upgrade ultralytics ray\n"
   ]
  },
  {
   "cell_type": "code",
   "execution_count": null,
   "metadata": {
    "execution": {
     "iopub.execute_input": "2024-12-01T08:43:23.519675Z",
     "iopub.status.busy": "2024-12-01T08:43:23.519309Z",
     "iopub.status.idle": "2024-12-01T09:03:10.370801Z",
     "shell.execute_reply": "2024-12-01T09:03:10.369783Z",
     "shell.execute_reply.started": "2024-12-01T08:43:23.519647Z"
    },
    "trusted": true
   },
   "outputs": [],
   "source": [
    "# Build from YAML and transfer weights\n",
    "Final_model = YOLO(\"yolo11n.pt\")  \n",
    "\n",
    "# Training The Final Model\n",
    "Result_Final_model = Final_model.train(data=\"/kaggle/input/cardetection/car/data.yaml\",imgsz=416,epochs = 30, batch = -1, optimizer = 'auto')\n"
   ]
  },
  {
   "cell_type": "markdown",
   "metadata": {},
   "source": [
    "***5.1.2. Validation Step***"
   ]
  },
  {
   "cell_type": "code",
   "execution_count": null,
   "metadata": {
    "execution": {
     "iopub.execute_input": "2024-12-01T09:13:57.173290Z",
     "iopub.status.busy": "2024-12-01T09:13:57.172919Z",
     "iopub.status.idle": "2024-12-01T09:14:01.211478Z",
     "shell.execute_reply": "2024-12-01T09:14:01.210585Z",
     "shell.execute_reply.started": "2024-12-01T09:13:57.173263Z"
    },
    "trusted": true
   },
   "outputs": [],
   "source": [
    "import os\n",
    "import cv2\n",
    "import matplotlib.pyplot as plt\n",
    "\n",
    "def display_images(post_training_files_path, image_files):\n",
    "\n",
    "    for image_file in image_files:\n",
    "        image_path = os.path.join(post_training_files_path, image_file)\n",
    "        img = cv2.imread(image_path)\n",
    "        img = cv2.cvtColor(img, cv2.COLOR_BGR2RGB)\n",
    "        \n",
    "        plt.figure(figsize=(10, 10), dpi=120)\n",
    "        plt.imshow(img)\n",
    "        plt.axis('off')\n",
    "        plt.show()\n",
    "\n",
    "# List of image files to display\n",
    "image_files = [\n",
    "    'confusion_matrix_normalized.png',\n",
    "    'F1_curve.png',\n",
    "    'P_curve.png',\n",
    "    'R_curve.png',\n",
    "    'PR_curve.png',\n",
    "    'results.png'\n",
    "]\n",
    "\n",
    "# Path to the directory containing the images\n",
    "post_training_files_path = '/kaggle/working/runs/detect/train'\n",
    "\n",
    "# Display the images\n",
    "display_images(post_training_files_path, image_files)\n"
   ]
  },
  {
   "cell_type": "code",
   "execution_count": null,
   "metadata": {
    "trusted": true
   },
   "outputs": [],
   "source": []
  },
  {
   "cell_type": "code",
   "execution_count": null,
   "metadata": {
    "execution": {
     "iopub.execute_input": "2024-12-01T09:14:01.213156Z",
     "iopub.status.busy": "2024-12-01T09:14:01.212828Z",
     "iopub.status.idle": "2024-12-01T09:14:01.238762Z",
     "shell.execute_reply": "2024-12-01T09:14:01.238048Z",
     "shell.execute_reply.started": "2024-12-01T09:14:01.213131Z"
    },
    "trusted": true
   },
   "outputs": [],
   "source": [
    "Result_Final_model = pd.read_csv('/kaggle/working/runs/detect/train/results.csv')\n",
    "Result_Final_model.tail(10)"
   ]
  },
  {
   "cell_type": "code",
   "execution_count": null,
   "metadata": {
    "execution": {
     "iopub.execute_input": "2024-12-01T09:14:01.240124Z",
     "iopub.status.busy": "2024-12-01T09:14:01.239786Z",
     "iopub.status.idle": "2024-12-01T09:14:03.762810Z",
     "shell.execute_reply": "2024-12-01T09:14:03.761971Z",
     "shell.execute_reply.started": "2024-12-01T09:14:01.240093Z"
    },
    "trusted": true
   },
   "outputs": [],
   "source": [
    "# Read the results.csv file as a pandas dataframe\n",
    "Result_Final_model.columns = Result_Final_model.columns.str.strip()\n",
    "\n",
    "# Create subplots\n",
    "fig, axs = plt.subplots(nrows=5, ncols=2, figsize=(15, 15))\n",
    "\n",
    "# Plot the columns using seaborn\n",
    "sns.lineplot(x='epoch', y='train/box_loss', data=Result_Final_model, ax=axs[0,0])\n",
    "sns.lineplot(x='epoch', y='train/cls_loss', data=Result_Final_model, ax=axs[0,1])\n",
    "sns.lineplot(x='epoch', y='train/dfl_loss', data=Result_Final_model, ax=axs[1,0])\n",
    "sns.lineplot(x='epoch', y='metrics/precision(B)', data=Result_Final_model, ax=axs[1,1])\n",
    "sns.lineplot(x='epoch', y='metrics/recall(B)', data=Result_Final_model, ax=axs[2,0])\n",
    "sns.lineplot(x='epoch', y='metrics/mAP50(B)', data=Result_Final_model, ax=axs[2,1])\n",
    "sns.lineplot(x='epoch', y='metrics/mAP50-95(B)', data=Result_Final_model, ax=axs[3,0])\n",
    "sns.lineplot(x='epoch', y='val/box_loss', data=Result_Final_model, ax=axs[3,1])\n",
    "sns.lineplot(x='epoch', y='val/cls_loss', data=Result_Final_model, ax=axs[4,0])\n",
    "sns.lineplot(x='epoch', y='val/dfl_loss', data=Result_Final_model, ax=axs[4,1])\n",
    "\n",
    "# Set titles and axis labels for each subplot\n",
    "axs[0,0].set(title='Train Box Loss')\n",
    "axs[0,1].set(title='Train Class Loss')\n",
    "axs[1,0].set(title='Train DFL Loss')\n",
    "axs[1,1].set(title='Metrics Precision (B)')\n",
    "axs[2,0].set(title='Metrics Recall (B)')\n",
    "axs[2,1].set(title='Metrics mAP50 (B)')\n",
    "axs[3,0].set(title='Metrics mAP50-95 (B)')\n",
    "axs[3,1].set(title='Validation Box Loss')\n",
    "axs[4,0].set(title='Validation Class Loss')\n",
    "axs[4,1].set(title='Validation DFL Loss')\n",
    "\n",
    "\n",
    "plt.suptitle('Training Metrics and Loss', fontsize=24)\n",
    "plt.subplots_adjust(top=0.8)\n",
    "plt.tight_layout()\n",
    "plt.show()"
   ]
  },
  {
   "cell_type": "markdown",
   "metadata": {},
   "source": [
    " Validation of the Model By TestSet"
   ]
  },
  {
   "cell_type": "code",
   "execution_count": null,
   "metadata": {
    "execution": {
     "iopub.execute_input": "2024-12-01T09:14:03.765396Z",
     "iopub.status.busy": "2024-12-01T09:14:03.765115Z",
     "iopub.status.idle": "2024-12-01T09:14:16.724854Z",
     "shell.execute_reply": "2024-12-01T09:14:16.723726Z",
     "shell.execute_reply.started": "2024-12-01T09:14:03.765374Z"
    },
    "trusted": true
   },
   "outputs": [],
   "source": [
    "# Loading the best performing model\n",
    "Valid_model = YOLO('/kaggle/working/runs/detect/train/weights/best.pt')\n",
    "\n",
    "# Evaluating the model on the validset\n",
    "metrics = Valid_model.val(split = 'val')\n",
    "\n",
    "# final results \n",
    "print(\"precision(B): \", metrics.results_dict[\"metrics/precision(B)\"])\n",
    "print(\"metrics/recall(B): \", metrics.results_dict[\"metrics/recall(B)\"])\n",
    "print(\"metrics/mAP50(B): \", metrics.results_dict[\"metrics/mAP50(B)\"])\n",
    "print(\"metrics/mAP50-95(B): \", metrics.results_dict[\"metrics/mAP50-95(B)\"])"
   ]
  },
  {
   "cell_type": "markdown",
   "metadata": {},
   "source": [
    "Making Predictions On Test Images\n"
   ]
  },
  {
   "cell_type": "code",
   "execution_count": null,
   "metadata": {
    "execution": {
     "iopub.execute_input": "2024-12-01T09:14:16.727033Z",
     "iopub.status.busy": "2024-12-01T09:14:16.726750Z",
     "iopub.status.idle": "2024-12-01T09:14:20.175675Z",
     "shell.execute_reply": "2024-12-01T09:14:20.174163Z",
     "shell.execute_reply.started": "2024-12-01T09:14:16.727012Z"
    },
    "trusted": true
   },
   "outputs": [],
   "source": [
    "# Normalization function\n",
    "def normalize_image(image):\n",
    "    return image / 255.0\n",
    "\n",
    "# Image resizing function\n",
    "def resize_image(image, size=(640, 640)):\n",
    "    return cv2.resize(image, size)\n",
    "\n",
    "# Path to validation images\n",
    "dataset_path = '/kaggle/input/cardetection/car'  # Place your dataset path here\n",
    "valid_images_path = os.path.join(dataset_path, 'test', 'images')\n",
    "\n",
    "# List of all jpg images in the directory\n",
    "image_files = [file for file in os.listdir(valid_images_path) if file.endswith('.jpg')]\n",
    "\n",
    "# Check if there are images in the directory\n",
    "if len(image_files) > 0:\n",
    "    # Select 9 images at equal intervals\n",
    "    num_images = len(image_files)\n",
    "    step_size = max(1, num_images // 9)  # Ensure the interval is at least 1\n",
    "    selected_images = [image_files[i] for i in range(0, num_images, step_size)]\n",
    "\n",
    "    # Prepare subplots\n",
    "    fig, axes = plt.subplots(3, 3, figsize=(20, 21))\n",
    "    fig.suptitle('Validation Set Inferences', fontsize=24)\n",
    "\n",
    "    for i, ax in enumerate(axes.flatten()):\n",
    "        if i < len(selected_images):\n",
    "            image_path = os.path.join(valid_images_path, selected_images[i])\n",
    "            \n",
    "            # Load image\n",
    "            image = cv2.imread(image_path)\n",
    "            \n",
    "            # Check if the image is loaded correctly\n",
    "            if image is not None:\n",
    "                # Resize image\n",
    "                resized_image = resize_image(image, size=(640, 640))\n",
    "                # Normalize image\n",
    "                normalized_image = normalize_image(resized_image)\n",
    "                \n",
    "                # Convert the normalized image to uint8 data type\n",
    "                normalized_image_uint8 = (normalized_image * 255).astype(np.uint8)\n",
    "                \n",
    "                # Predict with the model\n",
    "                results = Valid_model.predict(source=normalized_image_uint8, imgsz=640, conf=0.5)\n",
    "                \n",
    "                # Plot image with labels\n",
    "                annotated_image = results[0].plot(line_width=1)\n",
    "                annotated_image_rgb = cv2.cvtColor(annotated_image, cv2.COLOR_BGR2RGB)\n",
    "                ax.imshow(annotated_image_rgb)\n",
    "            else:\n",
    "                print(f\"Failed to load image {image_path}\")\n",
    "        ax.axis('off')\n",
    "\n",
    "    plt.tight_layout()\n",
    "    plt.show()\n"
   ]
  },
  {
   "cell_type": "markdown",
   "metadata": {},
   "source": [
    "## <b>6 <span style='color:#e61227'>|</span> Save Model  </b>\n",
    "<div style=\"color:white;display:fill;border-radius:8px;\n",
    "            background-color:#03112A;font-size:150%;\n",
    "            letter-spacing:1.0px;background-image: url(https://i.imgur.com/GVd0La1.png)\">\n",
    "    <p style=\"padding: 8px;color:white;\"><b><b><span style='color:#e61227'></span></b> </b></p>\n",
    "</div>"
   ]
  },
  {
   "cell_type": "code",
   "execution_count": null,
   "metadata": {
    "execution": {
     "iopub.status.busy": "2024-12-01T09:03:32.644684Z",
     "iopub.status.idle": "2024-12-01T09:03:32.645048Z",
     "shell.execute_reply": "2024-12-01T09:03:32.644883Z",
     "shell.execute_reply.started": "2024-12-01T09:03:32.644866Z"
    },
    "trusted": true
   },
   "outputs": [],
   "source": [
    "# Export the model\n",
    "Valid_model.export(format='onnx')"
   ]
  },
  {
   "cell_type": "markdown",
   "metadata": {},
   "source": [
    "\n",
    "<div style=\"color:white;display:fill;border-radius:8px;\n",
    "            background-color:#03112A;font-size:150%;\n",
    "            letter-spacing:1.0px;background-image: url(https://i.imgur.com/GVd0La1.png)\">\n",
    "    <p style=\"padding: 8px;color:white;\"><b><b><span style='color:#e61227'></span></b> Thank you for taking the time to review my notebook! If you have any questions or criticisms, please kindly let me know in the comments section !!!!  </b></p>\n",
    "</div>\n"
   ]
  },
  {
   "cell_type": "code",
   "execution_count": null,
   "metadata": {
    "trusted": true
   },
   "outputs": [],
   "source": []
  }
 ],
 "metadata": {
  "kaggle": {
   "accelerator": "gpu",
   "dataSources": [
    {
     "datasetId": 4066836,
     "sourceId": 8968421,
     "sourceType": "datasetVersion"
    }
   ],
   "dockerImageVersionId": 30559,
   "isGpuEnabled": true,
   "isInternetEnabled": true,
   "language": "python",
   "sourceType": "notebook"
  },
  "kernelspec": {
   "display_name": "Python 3",
   "language": "python",
   "name": "python3"
  },
  "language_info": {
   "codemirror_mode": {
    "name": "ipython",
    "version": 3
   },
   "file_extension": ".py",
   "mimetype": "text/x-python",
   "name": "python",
   "nbconvert_exporter": "python",
   "pygments_lexer": "ipython3",
   "version": "3.10.12"
  },
  "papermill": {
   "default_parameters": {},
   "duration": 930.231796,
   "end_time": "2022-12-25T15:05:01.303118",
   "environment_variables": {},
   "exception": null,
   "input_path": "__notebook__.ipynb",
   "output_path": "__notebook__.ipynb",
   "parameters": {},
   "start_time": "2022-12-25T14:49:31.071322",
   "version": "2.3.4"
  },
  "widgets": {
   "application/vnd.jupyter.widget-state+json": {
    "state": {
     "01bc8c18b6344986b91b372202add723": {
      "model_module": "@jupyter-widgets/controls",
      "model_module_version": "1.5.0",
      "model_name": "FloatProgressModel",
      "state": {
       "_dom_classes": [],
       "_model_module": "@jupyter-widgets/controls",
       "_model_module_version": "1.5.0",
       "_model_name": "FloatProgressModel",
       "_view_count": null,
       "_view_module": "@jupyter-widgets/controls",
       "_view_module_version": "1.5.0",
       "_view_name": "ProgressView",
       "bar_style": "success",
       "description": "",
       "description_tooltip": null,
       "layout": "IPY_MODEL_cc246ab517c347f0af25a19f80aa0304",
       "max": 57458,
       "min": 0,
       "orientation": "horizontal",
       "style": "IPY_MODEL_180163535ef64b2eb54ea7ecaccad327",
       "value": 57458
      }
     },
     "180163535ef64b2eb54ea7ecaccad327": {
      "model_module": "@jupyter-widgets/controls",
      "model_module_version": "1.5.0",
      "model_name": "ProgressStyleModel",
      "state": {
       "_model_module": "@jupyter-widgets/controls",
       "_model_module_version": "1.5.0",
       "_model_name": "ProgressStyleModel",
       "_view_count": null,
       "_view_module": "@jupyter-widgets/base",
       "_view_module_version": "1.2.0",
       "_view_name": "StyleView",
       "bar_color": null,
       "description_width": ""
      }
     },
     "1812cc6e648049ffb8e8a968c0beb21a": {
      "model_module": "@jupyter-widgets/controls",
      "model_module_version": "1.5.0",
      "model_name": "DescriptionStyleModel",
      "state": {
       "_model_module": "@jupyter-widgets/controls",
       "_model_module_version": "1.5.0",
       "_model_name": "DescriptionStyleModel",
       "_view_count": null,
       "_view_module": "@jupyter-widgets/base",
       "_view_module_version": "1.2.0",
       "_view_name": "StyleView",
       "description_width": ""
      }
     },
     "18989c618af048dcadae60133997ba6a": {
      "model_module": "@jupyter-widgets/controls",
      "model_module_version": "1.5.0",
      "model_name": "HTMLModel",
      "state": {
       "_dom_classes": [],
       "_model_module": "@jupyter-widgets/controls",
       "_model_module_version": "1.5.0",
       "_model_name": "HTMLModel",
       "_view_count": null,
       "_view_module": "@jupyter-widgets/controls",
       "_view_module_version": "1.5.0",
       "_view_name": "HTMLView",
       "description": "",
       "description_tooltip": null,
       "layout": "IPY_MODEL_d541dcbf54bf4b6c9e0de8feab8843bd",
       "placeholder": "​",
       "style": "IPY_MODEL_63dc732c12954e25bbd465d97e3c258b",
       "value": "100%"
      }
     },
     "1aa2398c82da45439b729c63591b41f7": {
      "model_module": "@jupyter-widgets/controls",
      "model_module_version": "1.5.0",
      "model_name": "DescriptionStyleModel",
      "state": {
       "_model_module": "@jupyter-widgets/controls",
       "_model_module_version": "1.5.0",
       "_model_name": "DescriptionStyleModel",
       "_view_count": null,
       "_view_module": "@jupyter-widgets/base",
       "_view_module_version": "1.2.0",
       "_view_name": "StyleView",
       "description_width": ""
      }
     },
     "2c51a9fe274945529ba17d7591f583ff": {
      "model_module": "@jupyter-widgets/controls",
      "model_module_version": "1.5.0",
      "model_name": "HBoxModel",
      "state": {
       "_dom_classes": [],
       "_model_module": "@jupyter-widgets/controls",
       "_model_module_version": "1.5.0",
       "_model_name": "HBoxModel",
       "_view_count": null,
       "_view_module": "@jupyter-widgets/controls",
       "_view_module_version": "1.5.0",
       "_view_name": "HBoxView",
       "box_style": "",
       "children": [
        "IPY_MODEL_18989c618af048dcadae60133997ba6a",
        "IPY_MODEL_97aeea9b0bbf4405857af58f4a92eaa2",
        "IPY_MODEL_7a34d15617b544f389eaf04f95c32e9b"
       ],
       "layout": "IPY_MODEL_2e338e1e9eb847b0a07ab949e56c55ec"
      }
     },
     "2e338e1e9eb847b0a07ab949e56c55ec": {
      "model_module": "@jupyter-widgets/base",
      "model_module_version": "1.2.0",
      "model_name": "LayoutModel",
      "state": {
       "_model_module": "@jupyter-widgets/base",
       "_model_module_version": "1.2.0",
       "_model_name": "LayoutModel",
       "_view_count": null,
       "_view_module": "@jupyter-widgets/base",
       "_view_module_version": "1.2.0",
       "_view_name": "LayoutView",
       "align_content": null,
       "align_items": null,
       "align_self": null,
       "border": null,
       "bottom": null,
       "display": null,
       "flex": null,
       "flex_flow": null,
       "grid_area": null,
       "grid_auto_columns": null,
       "grid_auto_flow": null,
       "grid_auto_rows": null,
       "grid_column": null,
       "grid_gap": null,
       "grid_row": null,
       "grid_template_areas": null,
       "grid_template_columns": null,
       "grid_template_rows": null,
       "height": null,
       "justify_content": null,
       "justify_items": null,
       "left": null,
       "margin": null,
       "max_height": null,
       "max_width": null,
       "min_height": null,
       "min_width": null,
       "object_fit": null,
       "object_position": null,
       "order": null,
       "overflow": null,
       "overflow_x": null,
       "overflow_y": null,
       "padding": null,
       "right": null,
       "top": null,
       "visibility": null,
       "width": null
      }
     },
     "39fa2448024f43f7b76a4c0c06636568": {
      "model_module": "@jupyter-widgets/base",
      "model_module_version": "1.2.0",
      "model_name": "LayoutModel",
      "state": {
       "_model_module": "@jupyter-widgets/base",
       "_model_module_version": "1.2.0",
       "_model_name": "LayoutModel",
       "_view_count": null,
       "_view_module": "@jupyter-widgets/base",
       "_view_module_version": "1.2.0",
       "_view_name": "LayoutView",
       "align_content": null,
       "align_items": null,
       "align_self": null,
       "border": null,
       "bottom": null,
       "display": null,
       "flex": null,
       "flex_flow": null,
       "grid_area": null,
       "grid_auto_columns": null,
       "grid_auto_flow": null,
       "grid_auto_rows": null,
       "grid_column": null,
       "grid_gap": null,
       "grid_row": null,
       "grid_template_areas": null,
       "grid_template_columns": null,
       "grid_template_rows": null,
       "height": null,
       "justify_content": null,
       "justify_items": null,
       "left": null,
       "margin": null,
       "max_height": null,
       "max_width": null,
       "min_height": null,
       "min_width": null,
       "object_fit": null,
       "object_position": null,
       "order": null,
       "overflow": null,
       "overflow_x": null,
       "overflow_y": null,
       "padding": null,
       "right": null,
       "top": null,
       "visibility": null,
       "width": null
      }
     },
     "54729a8a899f47e4a6bfd71a7a43cf7c": {
      "model_module": "@jupyter-widgets/controls",
      "model_module_version": "1.5.0",
      "model_name": "HTMLModel",
      "state": {
       "_dom_classes": [],
       "_model_module": "@jupyter-widgets/controls",
       "_model_module_version": "1.5.0",
       "_model_name": "HTMLModel",
       "_view_count": null,
       "_view_module": "@jupyter-widgets/controls",
       "_view_module_version": "1.5.0",
       "_view_name": "HTMLView",
       "description": "",
       "description_tooltip": null,
       "layout": "IPY_MODEL_39fa2448024f43f7b76a4c0c06636568",
       "placeholder": "​",
       "style": "IPY_MODEL_1aa2398c82da45439b729c63591b41f7",
       "value": " 57458/57458 [08:38&lt;00:00, 97.95it/s]"
      }
     },
     "63dc732c12954e25bbd465d97e3c258b": {
      "model_module": "@jupyter-widgets/controls",
      "model_module_version": "1.5.0",
      "model_name": "DescriptionStyleModel",
      "state": {
       "_model_module": "@jupyter-widgets/controls",
       "_model_module_version": "1.5.0",
       "_model_name": "DescriptionStyleModel",
       "_view_count": null,
       "_view_module": "@jupyter-widgets/base",
       "_view_module_version": "1.2.0",
       "_view_name": "StyleView",
       "description_width": ""
      }
     },
     "6c9ccb4155e54220aa61f3e9449bd113": {
      "model_module": "@jupyter-widgets/controls",
      "model_module_version": "1.5.0",
      "model_name": "HBoxModel",
      "state": {
       "_dom_classes": [],
       "_model_module": "@jupyter-widgets/controls",
       "_model_module_version": "1.5.0",
       "_model_name": "HBoxModel",
       "_view_count": null,
       "_view_module": "@jupyter-widgets/controls",
       "_view_module_version": "1.5.0",
       "_view_name": "HBoxView",
       "box_style": "",
       "children": [
        "IPY_MODEL_d7e83309bfd04350ba8e7344b68d8968",
        "IPY_MODEL_01bc8c18b6344986b91b372202add723",
        "IPY_MODEL_54729a8a899f47e4a6bfd71a7a43cf7c"
       ],
       "layout": "IPY_MODEL_78297aca5b0b43ac990e4eaaa3163967"
      }
     },
     "78297aca5b0b43ac990e4eaaa3163967": {
      "model_module": "@jupyter-widgets/base",
      "model_module_version": "1.2.0",
      "model_name": "LayoutModel",
      "state": {
       "_model_module": "@jupyter-widgets/base",
       "_model_module_version": "1.2.0",
       "_model_name": "LayoutModel",
       "_view_count": null,
       "_view_module": "@jupyter-widgets/base",
       "_view_module_version": "1.2.0",
       "_view_name": "LayoutView",
       "align_content": null,
       "align_items": null,
       "align_self": null,
       "border": null,
       "bottom": null,
       "display": null,
       "flex": null,
       "flex_flow": null,
       "grid_area": null,
       "grid_auto_columns": null,
       "grid_auto_flow": null,
       "grid_auto_rows": null,
       "grid_column": null,
       "grid_gap": null,
       "grid_row": null,
       "grid_template_areas": null,
       "grid_template_columns": null,
       "grid_template_rows": null,
       "height": null,
       "justify_content": null,
       "justify_items": null,
       "left": null,
       "margin": null,
       "max_height": null,
       "max_width": null,
       "min_height": null,
       "min_width": null,
       "object_fit": null,
       "object_position": null,
       "order": null,
       "overflow": null,
       "overflow_x": null,
       "overflow_y": null,
       "padding": null,
       "right": null,
       "top": null,
       "visibility": null,
       "width": null
      }
     },
     "7a34d15617b544f389eaf04f95c32e9b": {
      "model_module": "@jupyter-widgets/controls",
      "model_module_version": "1.5.0",
      "model_name": "HTMLModel",
      "state": {
       "_dom_classes": [],
       "_model_module": "@jupyter-widgets/controls",
       "_model_module_version": "1.5.0",
       "_model_name": "HTMLModel",
       "_view_count": null,
       "_view_module": "@jupyter-widgets/controls",
       "_view_module_version": "1.5.0",
       "_view_name": "HTMLView",
       "description": "",
       "description_tooltip": null,
       "layout": "IPY_MODEL_eb7558f5a0f441b4a339e1836134d833",
       "placeholder": "​",
       "style": "IPY_MODEL_1812cc6e648049ffb8e8a968c0beb21a",
       "value": " 50/50 [05:39&lt;00:00,  6.34s/it]"
      }
     },
     "97aeea9b0bbf4405857af58f4a92eaa2": {
      "model_module": "@jupyter-widgets/controls",
      "model_module_version": "1.5.0",
      "model_name": "FloatProgressModel",
      "state": {
       "_dom_classes": [],
       "_model_module": "@jupyter-widgets/controls",
       "_model_module_version": "1.5.0",
       "_model_name": "FloatProgressModel",
       "_view_count": null,
       "_view_module": "@jupyter-widgets/controls",
       "_view_module_version": "1.5.0",
       "_view_name": "ProgressView",
       "bar_style": "success",
       "description": "",
       "description_tooltip": null,
       "layout": "IPY_MODEL_ade48cb84426474f903dc0006ad07778",
       "max": 50,
       "min": 0,
       "orientation": "horizontal",
       "style": "IPY_MODEL_df0d061b7fbe4e1ead3a24e1e0c12a15",
       "value": 50
      }
     },
     "9ced464273c44b6ab7d7ab8e81413bff": {
      "model_module": "@jupyter-widgets/base",
      "model_module_version": "1.2.0",
      "model_name": "LayoutModel",
      "state": {
       "_model_module": "@jupyter-widgets/base",
       "_model_module_version": "1.2.0",
       "_model_name": "LayoutModel",
       "_view_count": null,
       "_view_module": "@jupyter-widgets/base",
       "_view_module_version": "1.2.0",
       "_view_name": "LayoutView",
       "align_content": null,
       "align_items": null,
       "align_self": null,
       "border": null,
       "bottom": null,
       "display": null,
       "flex": null,
       "flex_flow": null,
       "grid_area": null,
       "grid_auto_columns": null,
       "grid_auto_flow": null,
       "grid_auto_rows": null,
       "grid_column": null,
       "grid_gap": null,
       "grid_row": null,
       "grid_template_areas": null,
       "grid_template_columns": null,
       "grid_template_rows": null,
       "height": null,
       "justify_content": null,
       "justify_items": null,
       "left": null,
       "margin": null,
       "max_height": null,
       "max_width": null,
       "min_height": null,
       "min_width": null,
       "object_fit": null,
       "object_position": null,
       "order": null,
       "overflow": null,
       "overflow_x": null,
       "overflow_y": null,
       "padding": null,
       "right": null,
       "top": null,
       "visibility": null,
       "width": null
      }
     },
     "ade48cb84426474f903dc0006ad07778": {
      "model_module": "@jupyter-widgets/base",
      "model_module_version": "1.2.0",
      "model_name": "LayoutModel",
      "state": {
       "_model_module": "@jupyter-widgets/base",
       "_model_module_version": "1.2.0",
       "_model_name": "LayoutModel",
       "_view_count": null,
       "_view_module": "@jupyter-widgets/base",
       "_view_module_version": "1.2.0",
       "_view_name": "LayoutView",
       "align_content": null,
       "align_items": null,
       "align_self": null,
       "border": null,
       "bottom": null,
       "display": null,
       "flex": null,
       "flex_flow": null,
       "grid_area": null,
       "grid_auto_columns": null,
       "grid_auto_flow": null,
       "grid_auto_rows": null,
       "grid_column": null,
       "grid_gap": null,
       "grid_row": null,
       "grid_template_areas": null,
       "grid_template_columns": null,
       "grid_template_rows": null,
       "height": null,
       "justify_content": null,
       "justify_items": null,
       "left": null,
       "margin": null,
       "max_height": null,
       "max_width": null,
       "min_height": null,
       "min_width": null,
       "object_fit": null,
       "object_position": null,
       "order": null,
       "overflow": null,
       "overflow_x": null,
       "overflow_y": null,
       "padding": null,
       "right": null,
       "top": null,
       "visibility": null,
       "width": null
      }
     },
     "c2679da6c9f2455fbc754b2e27f5739e": {
      "model_module": "@jupyter-widgets/controls",
      "model_module_version": "1.5.0",
      "model_name": "DescriptionStyleModel",
      "state": {
       "_model_module": "@jupyter-widgets/controls",
       "_model_module_version": "1.5.0",
       "_model_name": "DescriptionStyleModel",
       "_view_count": null,
       "_view_module": "@jupyter-widgets/base",
       "_view_module_version": "1.2.0",
       "_view_name": "StyleView",
       "description_width": ""
      }
     },
     "cc246ab517c347f0af25a19f80aa0304": {
      "model_module": "@jupyter-widgets/base",
      "model_module_version": "1.2.0",
      "model_name": "LayoutModel",
      "state": {
       "_model_module": "@jupyter-widgets/base",
       "_model_module_version": "1.2.0",
       "_model_name": "LayoutModel",
       "_view_count": null,
       "_view_module": "@jupyter-widgets/base",
       "_view_module_version": "1.2.0",
       "_view_name": "LayoutView",
       "align_content": null,
       "align_items": null,
       "align_self": null,
       "border": null,
       "bottom": null,
       "display": null,
       "flex": null,
       "flex_flow": null,
       "grid_area": null,
       "grid_auto_columns": null,
       "grid_auto_flow": null,
       "grid_auto_rows": null,
       "grid_column": null,
       "grid_gap": null,
       "grid_row": null,
       "grid_template_areas": null,
       "grid_template_columns": null,
       "grid_template_rows": null,
       "height": null,
       "justify_content": null,
       "justify_items": null,
       "left": null,
       "margin": null,
       "max_height": null,
       "max_width": null,
       "min_height": null,
       "min_width": null,
       "object_fit": null,
       "object_position": null,
       "order": null,
       "overflow": null,
       "overflow_x": null,
       "overflow_y": null,
       "padding": null,
       "right": null,
       "top": null,
       "visibility": null,
       "width": null
      }
     },
     "d541dcbf54bf4b6c9e0de8feab8843bd": {
      "model_module": "@jupyter-widgets/base",
      "model_module_version": "1.2.0",
      "model_name": "LayoutModel",
      "state": {
       "_model_module": "@jupyter-widgets/base",
       "_model_module_version": "1.2.0",
       "_model_name": "LayoutModel",
       "_view_count": null,
       "_view_module": "@jupyter-widgets/base",
       "_view_module_version": "1.2.0",
       "_view_name": "LayoutView",
       "align_content": null,
       "align_items": null,
       "align_self": null,
       "border": null,
       "bottom": null,
       "display": null,
       "flex": null,
       "flex_flow": null,
       "grid_area": null,
       "grid_auto_columns": null,
       "grid_auto_flow": null,
       "grid_auto_rows": null,
       "grid_column": null,
       "grid_gap": null,
       "grid_row": null,
       "grid_template_areas": null,
       "grid_template_columns": null,
       "grid_template_rows": null,
       "height": null,
       "justify_content": null,
       "justify_items": null,
       "left": null,
       "margin": null,
       "max_height": null,
       "max_width": null,
       "min_height": null,
       "min_width": null,
       "object_fit": null,
       "object_position": null,
       "order": null,
       "overflow": null,
       "overflow_x": null,
       "overflow_y": null,
       "padding": null,
       "right": null,
       "top": null,
       "visibility": null,
       "width": null
      }
     },
     "d7e83309bfd04350ba8e7344b68d8968": {
      "model_module": "@jupyter-widgets/controls",
      "model_module_version": "1.5.0",
      "model_name": "HTMLModel",
      "state": {
       "_dom_classes": [],
       "_model_module": "@jupyter-widgets/controls",
       "_model_module_version": "1.5.0",
       "_model_name": "HTMLModel",
       "_view_count": null,
       "_view_module": "@jupyter-widgets/controls",
       "_view_module_version": "1.5.0",
       "_view_name": "HTMLView",
       "description": "",
       "description_tooltip": null,
       "layout": "IPY_MODEL_9ced464273c44b6ab7d7ab8e81413bff",
       "placeholder": "​",
       "style": "IPY_MODEL_c2679da6c9f2455fbc754b2e27f5739e",
       "value": "100%"
      }
     },
     "df0d061b7fbe4e1ead3a24e1e0c12a15": {
      "model_module": "@jupyter-widgets/controls",
      "model_module_version": "1.5.0",
      "model_name": "ProgressStyleModel",
      "state": {
       "_model_module": "@jupyter-widgets/controls",
       "_model_module_version": "1.5.0",
       "_model_name": "ProgressStyleModel",
       "_view_count": null,
       "_view_module": "@jupyter-widgets/base",
       "_view_module_version": "1.2.0",
       "_view_name": "StyleView",
       "bar_color": null,
       "description_width": ""
      }
     },
     "eb7558f5a0f441b4a339e1836134d833": {
      "model_module": "@jupyter-widgets/base",
      "model_module_version": "1.2.0",
      "model_name": "LayoutModel",
      "state": {
       "_model_module": "@jupyter-widgets/base",
       "_model_module_version": "1.2.0",
       "_model_name": "LayoutModel",
       "_view_count": null,
       "_view_module": "@jupyter-widgets/base",
       "_view_module_version": "1.2.0",
       "_view_name": "LayoutView",
       "align_content": null,
       "align_items": null,
       "align_self": null,
       "border": null,
       "bottom": null,
       "display": null,
       "flex": null,
       "flex_flow": null,
       "grid_area": null,
       "grid_auto_columns": null,
       "grid_auto_flow": null,
       "grid_auto_rows": null,
       "grid_column": null,
       "grid_gap": null,
       "grid_row": null,
       "grid_template_areas": null,
       "grid_template_columns": null,
       "grid_template_rows": null,
       "height": null,
       "justify_content": null,
       "justify_items": null,
       "left": null,
       "margin": null,
       "max_height": null,
       "max_width": null,
       "min_height": null,
       "min_width": null,
       "object_fit": null,
       "object_position": null,
       "order": null,
       "overflow": null,
       "overflow_x": null,
       "overflow_y": null,
       "padding": null,
       "right": null,
       "top": null,
       "visibility": null,
       "width": null
      }
     }
    },
    "version_major": 2,
    "version_minor": 0
   }
  }
 },
 "nbformat": 4,
 "nbformat_minor": 4
}
